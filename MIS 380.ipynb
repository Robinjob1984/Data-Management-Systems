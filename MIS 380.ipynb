{
 "cells": [
  {
   "cell_type": "markdown",
   "id": "326b9c2e",
   "metadata": {},
   "source": [
    "### Listing the required libraries"
   ]
  },
  {
   "cell_type": "code",
   "execution_count": null,
   "id": "21426fca",
   "metadata": {},
   "outputs": [],
   "source": [
    "import sys\n",
    "!pip install pandas\n",
    "!pip install numpy\n",
    "!pip install datapane\n",
    "!pip install plotly"
   ]
  },
  {
   "cell_type": "code",
   "execution_count": null,
   "id": "815f24b3",
   "metadata": {},
   "outputs": [],
   "source": [
    "import sqlite3\n",
    "import pandas as pd\n",
    "import numpy as np\n",
    "import plotly.express as px\n",
    "import plotly.graph_objects as go\n",
    "import datapane as dp"
   ]
  },
  {
   "cell_type": "markdown",
   "id": "a5e2e042",
   "metadata": {},
   "source": [
    "### Connection to the database"
   ]
  },
  {
   "cell_type": "code",
   "execution_count": null,
   "id": "a4b3ef00",
   "metadata": {},
   "outputs": [],
   "source": [
    "#put the name of your database here:\n",
    "db = 'MusicStore.sqlite'\n",
    "\n",
    "\n",
    "def run_query(q):   #\n",
    "    with sqlite3.connect(db) as conn:\n",
    "        return pd.read_sql(q,conn)\n",
    "    \n",
    "def run_command(c):\n",
    "    with sqlite3.connect(db) as conn:\n",
    "        conn.isolation_level = None\n",
    "        conn.execute(c) \n"
   ]
  },
  {
   "cell_type": "markdown",
   "id": "c51b407d",
   "metadata": {},
   "source": [
    "### Testing the connection by printing the name and number of records for all the tables available in the database"
   ]
  },
  {
   "cell_type": "code",
   "execution_count": null,
   "id": "480904d3",
   "metadata": {},
   "outputs": [],
   "source": [
    "def show_tables():\n",
    "    q = '''\n",
    "        SELECT\n",
    "            name\n",
    "        FROM sqlite_master\n",
    "        WHERE type IN (\"table\",\"view\");\n",
    "        '''\n",
    "    return run_query(q)\n",
    "\n",
    "def get_table_row_count(tablename):\n",
    "    q = '''\n",
    "        SELECT\n",
    "            COUNT(1)\n",
    "        FROM %s;\n",
    "        ''' % tablename\n",
    "    return run_query(q)[\"COUNT(1)\"][0]\n",
    "\n",
    "tables = show_tables()\n",
    "tables[\"row_count\"] = [get_table_row_count(t) for t in tables[\"name\"]]\n",
    "\n",
    "tables"
   ]
  },
  {
   "cell_type": "markdown",
   "id": "3cb86e3d",
   "metadata": {},
   "source": [
    "### Sample code that shows how to print the columns in each table"
   ]
  },
  {
   "cell_type": "code",
   "execution_count": null,
   "id": "32f558a1",
   "metadata": {},
   "outputs": [],
   "source": [
    "conn = sqlite3.connect(db)\n",
    "cursor = conn.cursor()\n",
    "\n",
    "\n",
    "print(\"Columns of Table InvoiceLine\")\n",
    "data=cursor.execute('''SELECT * FROM InvoiceLine''')\n",
    "for column in data.description:\n",
    "    print(column[0])\n",
    "print(\"-------------------------------\")\n",
    "    \n",
    "    \n",
    "print(\"Columns of Table Album\")\n",
    "data=cursor.execute('''SELECT * FROM Album''')\n",
    "for column in data.description:\n",
    "    print(column[0])\n",
    "print(\"-------------------------------\")\n",
    "\n",
    "\n",
    "print(\"Columns of Table Customer\")\n",
    "data=cursor.execute('''SELECT * FROM Customer''')\n",
    "for column in data.description:\n",
    "    print(column[0])       \n",
    "print(\"-------------------------------\")"
   ]
  },
  {
   "cell_type": "markdown",
   "id": "4b223045",
   "metadata": {},
   "source": [
    "### Copy your Datapane token (from the website) to create the online dashboard"
   ]
  },
  {
   "cell_type": "code",
   "execution_count": null,
   "id": "70b99329",
   "metadata": {},
   "outputs": [],
   "source": [
    "# copy your datapane token below\n",
    "!datapane login --token="
   ]
  },
  {
   "cell_type": "markdown",
   "id": "9d3df895",
   "metadata": {},
   "source": [
    "### How to run a query"
   ]
  },
  {
   "cell_type": "code",
   "execution_count": null,
   "id": "f1e89c78",
   "metadata": {},
   "outputs": [],
   "source": [
    "#After you develop your query in the sqlite developer (oracle developer), you can copy it here and \n",
    "#give it a name (such as top_10_tracks_query) \n",
    "\n",
    "top_10_tracks_query = '''\n",
    "SELECT \n",
    "    t.Name trackname,\n",
    "    a.Title album_title,\n",
    "    ar.Name artist,\n",
    "    COUNT(*) as total_purchases,\n",
    "    SUM(il.UnitPrice) total_cost\n",
    "FROM track t \n",
    "JOIN album a on a.AlbumId = t.AlbumId\n",
    "JOIN artist ar on ar.ArtistId = a.ArtistId\n",
    "JOIN InvoiceLine il on il.TrackId = t.TrackId\n",
    "GROUP BY 1\n",
    "ORDER BY total_purchases desc\n",
    "LIMIT 10\n",
    "'''\n",
    "\n",
    "# use run_query to run the it and see the results\n",
    "top_10_df = run_query(top_10_tracks_query)\n",
    "\n",
    "top_10_df\n",
    "\n",
    "# dp.Report(\n",
    "#     dp.DataTable(top_10_df)\n",
    "# ).upload(name=\"Music Sales\")"
   ]
  },
  {
   "cell_type": "code",
   "execution_count": null,
   "id": "0aaf8b5e",
   "metadata": {},
   "outputs": [],
   "source": [
    "employee_sales_performance = '''\n",
    "WITH \n",
    "    customer_support_rep_sales AS\n",
    "        (\n",
    "         SELECT \n",
    "             i.CustomerId,\n",
    "             strftime('%Y-%m', i.InvoiceDate) || \"-01\" Month,\n",
    "             c.SupportRepId,\n",
    "             SUM(i.Total) Sales_Total\n",
    "         FROM invoice i\n",
    "         INNER JOIN customer c ON c.CustomerId = i.CustomerId\n",
    "         GROUP BY 2, 3\n",
    "        )\n",
    "SELECT\n",
    "    e.FirstName || \" \" || e.LastName \"Employee Name\",\n",
    "    csrs.Month,\n",
    "    SUM(csrs.Sales_total) \"Amount of Sales (in $)\"\n",
    "FROM customer_support_rep_sales csrs\n",
    "INNER JOIN employee e ON csrs.SupportRepId = e.EmployeeId\n",
    "GROUP BY 1, 2;\n",
    "'''\n",
    "\n",
    "run_query(employee_sales_performance)"
   ]
  },
  {
   "cell_type": "code",
   "execution_count": null,
   "id": "2b66a129",
   "metadata": {},
   "outputs": [],
   "source": [
    "employee_sales = run_query(employee_sales_performance)\n",
    "employee_sales[\"Month\"] = pd.to_datetime(employee_sales[\"Month\"])\n",
    "\n",
    "employee_sales_monthly = px.line(employee_sales,\n",
    "                            x = \"Month\",\n",
    "                            y = \"Amount of Sales (in $)\",\n",
    "                            color = \"Employee Name\")\n",
    "\n",
    "employee_sales_monthly.update_layout(legend=dict(\n",
    "    yanchor=\"top\",\n",
    "    y=0.99,\n",
    "    xanchor=\"left\",\n",
    "    x=0.01\n",
    "))\n",
    "\n",
    "employee_sales_monthly.show()"
   ]
  },
  {
   "cell_type": "code",
   "execution_count": null,
   "id": "0de7ba14",
   "metadata": {},
   "outputs": [],
   "source": [
    "employee_sales_total = employee_sales.groupby([\"Employee Name\"]) \\\n",
    "                                        .sum() \\\n",
    "                                        .sort_values(by=\"Amount of Sales (in $)\") \\\n",
    "                                        .reset_index()\n",
    "\n",
    "employee_sales_bar = px.bar(employee_sales_total, \n",
    "                            y = 'Employee Name', \n",
    "                            x = \"Amount of Sales (in $)\",\n",
    "                            text = \"Amount of Sales (in $)\",\n",
    "                            orientation = 'h')\n",
    "\n",
    "employee_sales_bar.update_traces(texttemplate='%{text:.1f}')\n",
    "employee_sales_bar.show()"
   ]
  },
  {
   "cell_type": "code",
   "execution_count": null,
   "id": "9851fb09",
   "metadata": {},
   "outputs": [],
   "source": [
    "albums_to_purchase = '''\n",
    "WITH \n",
    "    usa_tracks_sold AS\n",
    "        (\n",
    "         SELECT il.* FROM InvoiceLine il\n",
    "         INNER JOIN Invoice i ON il.InvoiceId = i.InvoiceId\n",
    "         INNER JOIN Customer c ON i.CustomerId = c.CustomerId\n",
    "        )\n",
    "SELECT \n",
    "    g.name Genre, \n",
    "    COUNT(uts.InvoiceLineId) \"Number of Tracks Sold\", \n",
    "    CAST(COUNT(uts.InvoiceLineId) AS FLOAT)/(SELECT COUNT(*) FROM usa_tracks_sold) \"Percentage of Tracks Sold\"\n",
    "FROM usa_tracks_sold uts\n",
    "INNER JOIN track t ON uts.TrackId = t.TrackId\n",
    "INNER JOIN genre g ON t.GenreId = g.GenreId\n",
    "GROUP BY 1 \n",
    "ORDER BY 2 DESC\n",
    "LIMIT 10;\n",
    "'''\n",
    "\n",
    "genre_sales = run_query(albums_to_purchase)\n",
    "genre_sales.sort_values('Number of Tracks Sold', inplace=True)\n",
    "\n",
    "genre_sales_plot = px.bar(\n",
    "    genre_sales, \n",
    "    x=\"Percentage of Tracks Sold\", \n",
    "    y=\"Genre\", \n",
    "    orientation='h',\n",
    "    text=\"Percentage of Tracks Sold\",\n",
    "    title = \"Sales by Genre\"\n",
    ")\n",
    "\n",
    "genre_sales_plot.update_traces(texttemplate='%{text:.1%}', textposition='outside')\n",
    "\n",
    "genre_sales_plot.show()"
   ]
  },
  {
   "cell_type": "code",
   "execution_count": null,
   "id": "df25a9cd",
   "metadata": {},
   "outputs": [],
   "source": [
    "   \n",
    "sales_by_country = '''\n",
    "WITH country_or_other AS\n",
    "    (\n",
    "     SELECT\n",
    "       CASE\n",
    "           WHEN (\n",
    "                 SELECT count(*)\n",
    "                 FROM customer\n",
    "                 where country = c.country\n",
    "                ) = 1 THEN \"Other\"\n",
    "           ELSE c.country\n",
    "       END AS country,\n",
    "       c.customerid,\n",
    "       il.*\n",
    "     FROM invoiceline il\n",
    "     INNER JOIN invoice i ON i.invoiceid = il.invoiceid\n",
    "     INNER JOIN customer c ON c.customerid = i.customerid\n",
    "    )\n",
    "\n",
    "\n",
    "SELECT\n",
    "    country,\n",
    "    count(distinct customerid) customers,\n",
    "    SUM(unitprice) totalsales,\n",
    "    SUM(unitprice) / count(distinct customerid) customerlifetimevalue,\n",
    "    SUM(unitprice) / count(distinct invoiceid) averageorder,\n",
    "    CASE\n",
    "        WHEN country = \"Other\" THEN 1\n",
    "        ELSE 0\n",
    "    END AS sort\n",
    "FROM country_or_other\n",
    "GROUP BY country\n",
    "ORDER BY sort ASC, totalsales DESC;\n",
    "'''\n",
    "\n",
    "run_query(sales_by_country)"
   ]
  },
  {
   "cell_type": "code",
   "execution_count": null,
   "id": "ba4050eb",
   "metadata": {},
   "outputs": [],
   "source": [
    "country_metrics = run_query(sales_by_country)\n",
    "\n",
    "sales_breakdown = go.Figure(data=[go.Pie(\n",
    "    labels = country_metrics[\"country\"], \n",
    "    values=country_metrics[\"totalsales\"], \n",
    "    hole=.3)\n",
    "                                 ])\n",
    "\n",
    "sales_breakdown.update_layout(title_text=\"Sales by country\")\n",
    "\n",
    "sales_breakdown.show()"
   ]
  },
  {
   "cell_type": "code",
   "execution_count": null,
   "id": "775bc046",
   "metadata": {},
   "outputs": [],
   "source": [
    "customer_ratio = country_metrics[\"customers\"] / country_metrics[\"customers\"].sum() * 100.0\n",
    "sales_ratio = country_metrics[\"totalsales\"] / country_metrics[\"totalsales\"].sum() * 100.0\n",
    "\n",
    "\n",
    "custs_vs_dollars = go.Figure(data=[\n",
    "    go.Bar(name='Customers', x=country_metrics[\"country\"], y=customer_ratio),\n",
    "    go.Bar(name='Total Sales', x=country_metrics[\"country\"], y=sales_ratio),\n",
    "])\n",
    "\n",
    "# Change the bar mode\n",
    "custs_vs_dollars.update_layout(barmode='group', title_text=\"Pct customers vs sales\")\n",
    "custs_vs_dollars.show()"
   ]
  },
  {
   "cell_type": "code",
   "execution_count": null,
   "id": "eeac5a8b",
   "metadata": {},
   "outputs": [],
   "source": [
    "country_metrics[\"differencefromavg\"] = (country_metrics[\"averageorder\"] - \\\n",
    "                                          country_metrics[\"averageorder\"].mean()) * 100.0\n",
    "\n",
    "avg_order = px.bar(\n",
    "    country_metrics, \n",
    "    x = \"country\", \n",
    "    y = \"differencefromavg\", \n",
    "    color = \"country\", \n",
    "    title = \"Avg order - Pct difference from mean\",\n",
    "    labels={\n",
    "        \"country\": \"Country\",\n",
    "        \"differencefromavg\": \"Difference from mean (%)\"\n",
    "    }\n",
    ")\n",
    "\n",
    "avg_order.update_layout(showlegend=False)\n",
    "\n",
    "avg_order.show()"
   ]
  },
  {
   "cell_type": "code",
   "execution_count": null,
   "id": "14256de3",
   "metadata": {},
   "outputs": [],
   "source": [
    "clv = px.bar(\n",
    "    country_metrics,\n",
    "    x = 'country',\n",
    "    y = 'customerlifetimevalue',\n",
    "    color='country',\n",
    "    labels={\n",
    "        \"country\": \"Country\",\n",
    "        \"customerlifetimevalue\": \"Customer Lifetime Value ($)\"\n",
    "    },\n",
    "    title = \"Customer Lifetime Value\"\n",
    ")\n",
    "\n",
    "clv.update_layout(showlegend=False)\n",
    "\n",
    "\n",
    "clv.show()"
   ]
  },
  {
   "cell_type": "code",
   "execution_count": null,
   "id": "0e84312c",
   "metadata": {},
   "outputs": [],
   "source": [
    "customers = tables[tables[\"name\"]==\"Customer\"][\"row_count\"].values[0]\n",
    "employees = tables[tables[\"name\"]==\"Employee\"][\"row_count\"].values[0]\n",
    "tracks_sold = tables[tables[\"name\"]==\"InvoiceLine\"][\"row_count\"].values[0]"
   ]
  },
  {
   "cell_type": "code",
   "execution_count": null,
   "id": "7a2bfeb6",
   "metadata": {},
   "outputs": [],
   "source": [
    "r = dp.Report( \n",
    "    dp.Group(\n",
    "        dp.BigNumber(heading=\"Total customers\", value = customers),\n",
    "        dp.BigNumber(heading=\"Total employees\", value = employees),\n",
    "        dp.BigNumber(heading=\"Total tracks sold\", value = tracks_sold),\n",
    "        columns = 3,\n",
    "        name=\"Little_group\"\n",
    "    ),\n",
    "    dp.Plot(genre_sales_plot, name = \"genre_sales\"),\n",
    "    dp.Plot(employee_sales_monthly, name = \"employee-sales-1\"),\n",
    "    dp.Plot(employee_sales_bar, name = \"employee-sales-2\"),\n",
    "    dp.Group(\n",
    "        dp.Plot(sales_breakdown),\n",
    "        dp.Plot(custs_vs_dollars),\n",
    "        dp.Plot(avg_order),\n",
    "        dp.Plot(clv),\n",
    "        columns = 2\n",
    "    ),\n",
    "    dp.DataTable(top_10_df, name = \"track-sales\"),\n",
    ").upload(name=\"Interactive Dashboard using SQL\")"
   ]
  },
  {
   "cell_type": "code",
   "execution_count": null,
   "id": "a295e186",
   "metadata": {},
   "outputs": [],
   "source": []
  }
 ],
 "metadata": {
  "kernelspec": {
   "display_name": "Python 3 (ipykernel)",
   "language": "python",
   "name": "python3"
  },
  "language_info": {
   "codemirror_mode": {
    "name": "ipython",
    "version": 3
   },
   "file_extension": ".py",
   "mimetype": "text/x-python",
   "name": "python",
   "nbconvert_exporter": "python",
   "pygments_lexer": "ipython3",
   "version": "3.8.13"
  }
 },
 "nbformat": 4,
 "nbformat_minor": 5
}
